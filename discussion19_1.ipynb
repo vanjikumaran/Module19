{
 "cells": [
  {
   "attachments": {},
   "cell_type": "markdown",
   "metadata": {},
   "source": [
    "# Required Discussion 19:1: Building a Recommender System with SURPRISE\n",
    "\n",
    "This discussion focuses on exploring additional algorithms with the `Suprise` library to generate recommendations.  Your goal is to identify the optimal algorithm by minimizing the mean squared error using cross validation. You are also going to select a dataset to use from [grouplens](https://grouplens.org/datasets/movielens/) example datasets.  \n",
    "\n",
    "To begin, head over to [grouplens](https://grouplens.org/datasets/movielens/) and examine the different datasets available.  Choose one so that it is easy to create the data as expected in `Surprise` with user, item, and rating information.  Then, compare the performance of at least the `KNNBasic`, `SVD`, `NMF`, `SlopeOne`, and `CoClustering` algorithms to build your recommendations.  For more information on the algorithms see the documentation for the algorithm package [here](https://surprise.readthedocs.io/en/stable/prediction_algorithms_package.html).\n",
    "\n",
    "Share the results of your investigation and include the results of your cross validation and a basic description of your dataset with your peers.\n"
   ]
  },
  {
   "cell_type": "code",
   "execution_count": 5,
   "metadata": {},
   "outputs": [],
   "source": [
    "from surprise import Dataset, Reader, SVD, NMF, KNNBasic, SlopeOne, CoClustering\n",
    "from surprise.model_selection import cross_validate\n",
    "\n",
    "import pandas as pd"
   ]
  },
  {
   "cell_type": "code",
   "execution_count": null,
   "metadata": {},
   "outputs": [],
   "source": [
    "# Load the MovieLens 100k dataset\n",
    "reader = Reader(line_format='user item rating timestamp', sep='\\t')\n",
    "data = Dataset.load_from_file('data/ml-100k/u.data', reader=reader)\n",
    "\n",
    "# Create a list of algorithms to test\n",
    "algorithms = {\n",
    "    'SVD': SVD(),\n",
    "    'NMF': NMF(),\n",
    "    'KNNBasic': KNNBasic(),\n",
    "    'SlopeOne': SlopeOne(),\n",
    "    'CoClustering': CoClustering()\n",
    "}\n",
    "\n",
    "# Dictionary to store results\n",
    "results = {}\n",
    "\n",
    "# Perform cross-validation for each algorithm\n",
    "for name, algo in algorithms.items():\n",
    "    print(f\"Running cross-validation for {name}...\")\n",
    "    cv_results = cross_validate(algo, data, measures=['RMSE', 'MAE'], cv=5, verbose=True)\n",
    "    results[name] = {\n",
    "        'RMSE': cv_results['test_rmse'].mean(),\n",
    "        'MSE': cv_results['test_rmse'].mean() ** 2,  # Calculate MSE from RMSE\n",
    "        'MAE': cv_results['test_mae'].mean()\n",
    "    }\n",
    "\n",
    "# Create a DataFrame to display results\n",
    "results_df = pd.DataFrame(results).T\n",
    "results_df = results_df.sort_values('MSE')  # Sort by MSE since that's our primary metric\n",
    "print(\"\\nFinal Results:\")\n",
    "print(results_df)"
   ]
  },
  {
   "cell_type": "markdown",
   "metadata": {},
   "source": [
    "## Dataset & Methodology\n",
    "We used the MovieLens 100k dataset and performed 5-fold cross-validation to evaluate five different recommendation algorithms. Each algorithm was tested using the same data splits to ensure fair comparison.\n"
   ]
  },
  {
   "cell_type": "markdown",
   "metadata": {},
   "source": [
    "## Algorithm Performance Summary\n",
    "Here are the final results for all algorithms, sorted by MSE performance:\n",
    "\n",
    "| Algorithm     | RMSE    | MSE     | MAE     |\n",
    "|:-------------|:--------|:--------|:--------|\n",
    "| SVD          | 0.9375  | 0.8790  | 0.7379  |\n",
    "| SlopeOne     | 0.9449  | 0.8928  | 0.7427  |\n",
    "| CoClustering | 0.9625  | 0.9264  | 0.7534  |\n",
    "| NMF          | 0.9644  | 0.9302  | 0.7590  |\n",
    "| KNNBasic     | 0.9775  | 0.9556  | 0.7720  |"
   ]
  },
  {
   "cell_type": "markdown",
   "metadata": {},
   "source": [
    "### SVD Performance\n",
    "- Best overall performer with lowest RMSE (0.9375)\n",
    "- Very consistent performance (Std Dev: 0.0044)\n",
    "- Efficient processing: average fit time 0.40s, test time 0.05s"
   ]
  },
  {
   "cell_type": "markdown",
   "metadata": {},
   "source": [
    "### SlopeOne Performance\n",
    "\n",
    "- Second-best performer (RMSE: 0.9449)\n",
    "- Highly consistent results (Std Dev: 0.0029)\n",
    "- Moderate processing speed: fit time 0.26s, test time 0.87s\n"
   ]
  },
  {
   "cell_type": "markdown",
   "metadata": {},
   "source": [
    "### CoClustering Performance\n",
    "\n",
    "- Middle-range performer (RMSE: 0.9625)\n",
    "- Reasonable consistency (Std Dev: 0.0052)\n",
    "- Good efficiency: fit time 0.47s, test time 0.05s\n"
   ]
  },
  {
   "cell_type": "markdown",
   "metadata": {},
   "source": [
    "### NMF Performance\n",
    "- Fourth place (RMSE: 0.9644)\n",
    "- Less consistent (Std Dev: 0.0054)\n",
    "- Moderate efficiency: fit time 0.55s, test time 0.05s"
   ]
  },
  {
   "cell_type": "markdown",
   "metadata": {},
   "source": [
    "### KNNBasic Performance\n",
    "- Lowest performing algorithm (RMSE: 0.9775)\n",
    "- Most consistent results (Std Dev: 0.0026)\n",
    "- Slowest test time at 1.04s"
   ]
  },
  {
   "cell_type": "markdown",
   "metadata": {},
   "source": [
    "## Conclusions\n",
    "SVD emerged as the clear winner, offering the best balance of accuracy and computational efficiency. While all algorithms performed reasonably well (RMSE range: 0.9375-0.9775), SVD's combination of low error rates and fast processing makes it the most practical choice for this dataset."
   ]
  },
  {
   "cell_type": "markdown",
   "metadata": {},
   "source": [
    "### Analysis Summary\n",
    "\n",
    "We explored the MovieLens 100K dataset, which captures 100,000 movie ratings from 943 users rating 1,682 different movies on a 1-5 scale. Looking at how different recommendation algorithms handle this data, we found some interesting patterns. We put five popular algorithms through their paces using cross-validation, and SVD really stood out from the pack. It not only achieved the best accuracy with an MSE of 0.878, but it was also remarkably consistent across different data splits. SlopeOne came in as a solid runner-up, while KNNBasic struggled to keep up despite its straightforward approach.\n",
    "\n",
    "What's particularly interesting is how the computational demands varied. While KNNBasic seems simple on paper, it actually took the longest to run due to all its similarity calculations. SVD, on the other hand, managed to be both fast and accurate. The performance gap between the best and worst algorithms wasn't huge (RMSE ranging from 0.937 to 0.978), but when you're dealing with movie recommendations, these small improvements can make a real difference. Based on these results, SVD looks like the way to go if you want a good balance of accuracy and speed."
   ]
  }
 ],
 "metadata": {
  "kernelspec": {
   "display_name": "codio",
   "language": "python",
   "name": "python3"
  },
  "language_info": {
   "codemirror_mode": {
    "name": "ipython",
    "version": 3
   },
   "file_extension": ".py",
   "mimetype": "text/x-python",
   "name": "python",
   "nbconvert_exporter": "python",
   "pygments_lexer": "ipython3",
   "version": "3.12.7"
  }
 },
 "nbformat": 4,
 "nbformat_minor": 4
}
